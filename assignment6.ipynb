{
 "cells": [
  {
   "cell_type": "code",
   "execution_count": 15,
   "metadata": {},
   "outputs": [
    {
     "name": "stdout",
     "output_type": "stream",
     "text": [
      "Name: \n",
      "Type: Graph\n",
      "Number of nodes: 460\n",
      "Number of edges: 1\n",
      "Average degree:   0.0043\n"
     ]
    }
   ],
   "source": [
    "# Author: Jaskaran Bola \n",
    "# Importing networkx for the graph functions.\n",
    "# Importing community for the Louvain methods for community detection.\n",
    "import networkx as nx\n",
    "import community as community_louvain\n",
    "\n",
    "\n",
    "# This is the file that was provided for the data.\n",
    "filename = \"amazon-meta.txt\"\n",
    "\n",
    "# This portion of the code reads in the file with utf8 encoding.\n",
    "# Each line of the file is split into a list.\n",
    "with open('./amazon-meta.txt', \"r\", encoding=\"utf8\") as fp: \n",
    "    data = fp.read(1000000).splitlines()  \n",
    "\n",
    "# An empty networkx graph is created as a base.\n",
    "G = nx.Graph()\n",
    "\n",
    "# The result variable is a dummy dictionary variable used when creating nodes/edges.\n",
    "result = {}\n",
    "\n",
    "# The validASIN is used to hold all existing ASIN numbers to avoid edges with items that have no data.\n",
    "# This is a set variable to help with efficiency when iterating between and comparing the ASINs and edges.\n",
    "validASIN = set()\n",
    "\n",
    "# All of the lines in the data list are read and then searches for lines containing 'ASIN'.\n",
    "# The ASIN line is then split from the colon to separate the ASIN number.\n",
    "# The ASIN number (minus the first character which is a space) is inserted into the validASIN set.\n",
    "for line in data:\n",
    "    if \"ASIN\" in line:\n",
    "        name, value = line.split(\":\", 1)\n",
    "        validASIN.add(value[1:])\n",
    "\n",
    "# Another for loop is used to iterate through all of the lines in the data.\n",
    "# First the ASIN is located and then split from the colon to separate the ASIN number.\n",
    "# The result dictionary is then used to store key value pairs of the ASIN and number.\n",
    "# The result variable may not be needed but was used for some edge cases.\n",
    "for line in data:\n",
    "    if \"ASIN\" in line:\n",
    "        name, value = line.split(\":\", 1)\n",
    "        result[name.strip()] = value[1:].split()\n",
    "        node_data = result[\"ASIN\"]\n",
    "\n",
    "        G.add_node(node_data[0])\n",
    "\n",
    "# The \" similar\" is then located through the data continously after the ASIN is read (same loop iterating).\n",
    "# The assumption of a related ASIN always preceding a similar product list is made.\n",
    "# The reason for the space before similar is due to the assumption of the spaces in the rest of the data\n",
    "# along with an issue with the word 'disservice'.\n",
    "# \n",
    "# The if statement has a conditional that checks if the amount of similar products is higher than 0.\n",
    "# After confirming there are similar products, the line is split from the colon to create a key value pair.\n",
    "# The key for this is 'similar' and the values are the similar product ASINs.\n",
    "# The first 2 characters of the right side of the colon are removed to remove the number informing amount of products.\n",
    "    elif \" similar\" in line:\n",
    "        name, value = line.split(\":\", 1)\n",
    "        if int(value[1]) > 0:\n",
    "            result[name.strip()] = value[2:].split()\n",
    "            edge_data = result[\"similar\"]\n",
    "\n",
    "# After creating a dictionary with the similar product ASINs, they are iterated through.\n",
    "# The if statement then has a conditional that checks if the dictionary contains an existing ASIN.\n",
    "# If the similar product ASIN exists in the existing ASIN set, an edge is added with the value.\n",
    "# the node that the similar product ASIN is attached to is the previous ASIN.\n",
    "# This assumes that the format of ASIN and then similar products is used (for simplicity).\n",
    "# \n",
    "# The choice of a set variable for validASIN greatly increases the efficiency of this part of the code.\n",
    "            for x in edge_data:\n",
    "                if x in validASIN:\n",
    "                    G.add_edge(node_data[0], x)\n",
    "\n",
    "# The graph info is printed to validate the graph created earlier.\n",
    "print(nx.info(G))\n",
    "\n"
   ]
  },
  {
   "cell_type": "code",
   "execution_count": 6,
   "metadata": {},
   "outputs": [
    {
     "ename": "NameError",
     "evalue": "name 'community' is not defined",
     "output_type": "error",
     "traceback": [
      "\u001b[1;31m---------------------------------------------------------------------------\u001b[0m",
      "\u001b[1;31mNameError\u001b[0m                                 Traceback (most recent call last)",
      "\u001b[1;32m<ipython-input-6-16c5236cf82b>\u001b[0m in \u001b[0;36m<module>\u001b[1;34m\u001b[0m\n\u001b[0;32m      1\u001b[0m \u001b[0mpartion\u001b[0m \u001b[1;33m=\u001b[0m \u001b[0mcommunity_louvain\u001b[0m\u001b[1;33m.\u001b[0m\u001b[0mbest_partition\u001b[0m\u001b[1;33m(\u001b[0m\u001b[0mG\u001b[0m\u001b[1;33m)\u001b[0m\u001b[1;33m\u001b[0m\u001b[1;33m\u001b[0m\u001b[0m\n\u001b[1;32m----> 2\u001b[1;33m \u001b[0mmodularity\u001b[0m \u001b[1;33m=\u001b[0m \u001b[0mcommunity\u001b[0m\u001b[1;33m.\u001b[0m\u001b[0mmodularity\u001b[0m\u001b[1;33m(\u001b[0m\u001b[0mpartition\u001b[0m\u001b[1;33m,\u001b[0m \u001b[0mG\u001b[0m\u001b[1;33m)\u001b[0m\u001b[1;33m\u001b[0m\u001b[1;33m\u001b[0m\u001b[0m\n\u001b[0m\u001b[0;32m      3\u001b[0m \u001b[0mprint\u001b[0m\u001b[1;33m(\u001b[0m\u001b[0mmodularity\u001b[0m\u001b[1;33m)\u001b[0m\u001b[1;33m\u001b[0m\u001b[1;33m\u001b[0m\u001b[0m\n",
      "\u001b[1;31mNameError\u001b[0m: name 'community' is not defined"
     ]
    }
   ],
   "source": [
    "partion = community_louvain.best_partition(G)\n"
   ]
  },
  {
   "cell_type": "code",
   "execution_count": 46,
   "metadata": {},
   "outputs": [
    {
     "name": "stdout",
     "output_type": "stream",
     "text": [
      "0\n",
      "0\n"
     ]
    }
   ],
   "source": [
    "sale_stats = {}\n",
    "product_salesrank = 0\n",
    "product_ASIN = 0\n",
    "\n",
    "for line in data:\n",
    "    if \"ASIN\" in line:\n",
    "        name, value = line.split(\":\", 1)\n",
    "        product_ASIN = value[1:]\n",
    "        \n",
    "    elif \"discontinued product\" in line:\n",
    "        product_salesrank = 0\n",
    "    \n",
    "    elif \"salesrank\" in line:\n",
    "        name, value = line.split(\":\", 1)\n",
    "        product_salesrank = int(value[1:])\n",
    "    \n",
    "    sale_stats[product_ASIN] = product_salesrank\n",
    "\n",
    "top_product = min(sale_stats, key=sale_stats.get)\n",
    "\n",
    "print(top_product)\n",
    "print(sale_stats[top_product])\n"
   ]
  },
  {
   "cell_type": "code",
   "execution_count": null,
   "metadata": {},
   "outputs": [],
   "source": []
  }
 ],
 "metadata": {
  "kernelspec": {
   "display_name": "Python 3",
   "language": "python",
   "name": "python3"
  },
  "language_info": {
   "codemirror_mode": {
    "name": "ipython",
    "version": 3
   },
   "file_extension": ".py",
   "mimetype": "text/x-python",
   "name": "python",
   "nbconvert_exporter": "python",
   "pygments_lexer": "ipython3",
   "version": "3.8.5"
  }
 },
 "nbformat": 4,
 "nbformat_minor": 4
}
